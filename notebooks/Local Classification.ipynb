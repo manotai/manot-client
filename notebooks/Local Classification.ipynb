{
 "cells": [
  {
   "cell_type": "code",
   "execution_count": null,
   "id": "18bb61fb",
   "metadata": {},
   "outputs": [],
   "source": [
    "!pip3 install manot\n"
   ]
  },
  {
   "cell_type": "code",
   "execution_count": null,
   "id": "9344d4fc",
   "metadata": {},
   "outputs": [],
   "source": [
    "from manot import manotAI"
   ]
  },
  {
   "cell_type": "code",
   "execution_count": null,
   "id": "500e5fda",
   "metadata": {},
   "outputs": [],
   "source": [
    "setup_dir = 'setup_dir_on_local_machine'\n",
    "real_time_dir = 'real_time_dir_on_local_machine'\n",
    "manot_token= 'YOUR MANOT TOKEN HERE'\n",
    "manot_url=  'YOUR MANOT URL'"
   ]
  },
  {
   "cell_type": "code",
   "execution_count": null,
   "id": "920e8fcf",
   "metadata": {},
   "outputs": [],
   "source": [
    "manot = manotAI(manot_url, token=manot_token)"
   ]
  },
  {
   "cell_type": "code",
   "execution_count": null,
   "id": "221443db",
   "metadata": {},
   "outputs": [],
   "source": [
    "setup = manot.setup(data_provider=\"local\",\n",
    "                    arguments={\n",
    "                        \"name\": \"manot-local-classification\",\n",
    "                        \"images_path\": f\"{setup_dir}/images/\",\n",
    "                        \"detections_path\": f\"{setup_dir}/detections\",\n",
    "                        \"classes_txt_path\": f\"{setup_dir}/classes.txt\",\n",
    "                        \"task\": 'classification'\n",
    "                    }\n",
    ")"
   ]
  },
  {
   "cell_type": "code",
   "execution_count": null,
   "id": "937e3c3a",
   "metadata": {},
   "outputs": [],
   "source": [
    "setup_info = manot.get_setup(setup['id'])"
   ]
  },
  {
   "cell_type": "code",
   "execution_count": null,
   "id": "912742d4",
   "metadata": {},
   "outputs": [],
   "source": [
    "    insight = manot.insight(\n",
    "        name='manot-local-classification',\n",
    "        setup_id=setup_info[\"id\"],\n",
    "        data_path=f'{real_time_dir}/images',\n",
    "        data_provider='local',\n",
    "        percentage=2\n",
    "    )\n"
   ]
  },
  {
   "cell_type": "code",
   "execution_count": null,
   "id": "1ce46f12",
   "metadata": {},
   "outputs": [],
   "source": [
    "insight_info = manot.get_insight(insight['id'])"
   ]
  },
  {
   "cell_type": "code",
   "execution_count": null,
   "id": "46bdd77d",
   "metadata": {},
   "outputs": [],
   "source": [
    "mAP = manot.calculate_map(data_provider='local',\n",
    "                              ground_truths_path=f'{real_time_dir}/labels/',\n",
    "                              detections_path=f'{real_time_dir}/detections/',\n",
    "                              classes_txt_path=f'{real_time_dir}/classes.txt',\n",
    "                              data_set_id=insight_info['data_set']['id']\n",
    "                              )\n",
    "mAP"
   ]
  },
  {
   "cell_type": "code",
   "execution_count": null,
   "id": "4132f4bb",
   "metadata": {},
   "outputs": [],
   "source": [
    "manot.visualize_data_set(insight_info['data_set']['id'])"
   ]
  }
 ],
 "metadata": {
  "kernelspec": {
   "display_name": "Python 3 (ipykernel)",
   "language": "python",
   "name": "python3"
  },
  "language_info": {
   "codemirror_mode": {
    "name": "ipython",
    "version": 3
   },
   "file_extension": ".py",
   "mimetype": "text/x-python",
   "name": "python",
   "nbconvert_exporter": "python",
   "pygments_lexer": "ipython3",
   "version": "3.9.13"
  }
 },
 "nbformat": 4,
 "nbformat_minor": 5
}
