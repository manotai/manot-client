{
 "cells": [
  {
   "cell_type": "markdown",
   "id": "a68ca6bc",
   "metadata": {},
   "source": [
    "# manot insights for classification model using data stored on local machine( applicable for on-premise solutions)\n",
    "### In this tutorial we will show how to use manot to get insights on your data stored on local machine"
   ]
  },
  {
   "cell_type": "markdown",
   "id": "604ec804",
   "metadata": {},
   "source": [
    "### Install `manot` with `pip install manot` and import the package\n"
   ]
  },
  {
   "cell_type": "code",
   "execution_count": null,
   "id": "18bb61fb",
   "metadata": {},
   "outputs": [],
   "source": [
    "try:\n",
    "    from manot import manotAI\n",
    "except ImportError:\n",
    "    !pip install -U manot\n",
    "    from manot import manotAI\n"
   ]
  },
  {
   "cell_type": "markdown",
   "id": "8c1a9213",
   "metadata": {},
   "source": [
    "### Initialize manot"
   ]
  },
  {
   "cell_type": "code",
   "execution_count": null,
   "id": "920e8fcf",
   "metadata": {},
   "outputs": [],
   "source": [
    "manot = manotAI('YOUR MANOT URL', token='YOUR MANOT TOKEN HERE')"
   ]
  },
  {
   "cell_type": "markdown",
   "id": "78fd3d69",
   "metadata": {},
   "source": [
    "### Setup a project in manot from data stored on local machine. Detections should be done with 5% threshold."
   ]
  },
  {
   "cell_type": "code",
   "execution_count": null,
   "id": "221443db",
   "metadata": {},
   "outputs": [],
   "source": [
    "project_dir = 'directory of validation data and predictions on that data on local machine'\n",
    "project = manot.create_project(\n",
    "    data_provider=\"local\",\n",
    "    arguments={\n",
    "        \"name\": \"manot-local-classification\",\n",
    "        \"images_path\": f\"{project_dir}/images/\",\n",
    "        \"detections_path\": f\"{project_dir}/detections\",\n",
    "        \"classes_txt_path\": f\"{project_dir}/classes.txt\",\n",
    "        \"task\": 'classification',\n",
    "        \"description\": \"The project description\", # by default, it is None\n",
    "    }\n",
    ")"
   ]
  },
  {
   "cell_type": "markdown",
   "id": "78493e17",
   "metadata": {},
   "source": [
    "### Get insight on data where percentage is the percentage of images we want to consider insights."
   ]
  },
  {
   "cell_type": "code",
   "execution_count": null,
   "id": "912742d4",
   "metadata": {},
   "outputs": [],
   "source": [
    "evaluation_dir = 'directory of real time data stored on local machine'\n",
    "\n",
    "evaluation = manot.evaluate(\n",
    "    name='manot-local-classification',\n",
    "    project_id=project[\"id\"],\n",
    "    data_path=f'{evaluation_dir}/images',\n",
    "    data_provider='local',\n",
    "    percentage=2,\n",
    "    description=\"The evaluation description\", # by default, it is None\n",
    ")\n"
   ]
  },
  {
   "cell_type": "code",
   "execution_count": null,
   "id": "1902bae2",
   "metadata": {},
   "outputs": [],
   "source": [
    "evaluation_info = manot.get_evaluation(evaluation['id'])"
   ]
  },
  {
   "cell_type": "markdown",
   "id": "9655ecca",
   "metadata": {},
   "source": [
    "### Calculate accuracy on identified samples"
   ]
  },
  {
   "cell_type": "code",
   "execution_count": null,
   "id": "46bdd77d",
   "metadata": {},
   "outputs": [],
   "source": [
    "accuracy = manot.calculate_accuracy(\n",
    "      data_provider='local',                           \n",
    "      images_path=f'{evaluation_dir}/images/',\n",
    "      predictions_path=f'{evaluation_dir}/predictions/',\n",
    "      classes_txt_path=f'{evaluation_dir}/classes.txt',\n",
    "      data_set_id=evaluation_info['data_set']['id']\n",
    ")\n",
    "accuracy"
   ]
  },
  {
   "cell_type": "markdown",
   "id": "d7b5a2dc",
   "metadata": {},
   "source": [
    "### Visualize data"
   ]
  },
  {
   "cell_type": "code",
   "execution_count": null,
   "id": "4132f4bb",
   "metadata": {},
   "outputs": [],
   "source": []
  }
 ],
 "metadata": {
  "kernelspec": {
   "display_name": "Python 3 (ipykernel)",
   "language": "python",
   "name": "python3"
  },
  "language_info": {
   "codemirror_mode": {
    "name": "ipython",
    "version": 3
   },
   "file_extension": ".py",
   "mimetype": "text/x-python",
   "name": "python",
   "nbconvert_exporter": "python",
   "pygments_lexer": "ipython3",
   "version": "3.10.6"
  }
 },
 "nbformat": 4,
 "nbformat_minor": 5
}
