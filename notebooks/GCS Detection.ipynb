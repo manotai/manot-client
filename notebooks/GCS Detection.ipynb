{
 "cells": [
  {
   "cell_type": "markdown",
   "id": "30075373",
   "metadata": {},
   "source": [
    "# manot insights for detection model using data stored in GCS bucket\n",
    "### In this tutorial we will show how to use manot to get insights on your data stored in GCS bucket. By default the data will be stored in manot-managed GCS bucket, but in case of on-premise solution you can use your own GCS bucket to store data"
   ]
  },
  {
   "cell_type": "markdown",
   "id": "e110ca10",
   "metadata": {},
   "source": [
    "### Install `manot` with `pip install manot` and import the package\n"
   ]
  },
  {
   "cell_type": "code",
   "execution_count": null,
   "id": "d0139ca3",
   "metadata": {},
   "outputs": [],
   "source": [
    "try:\n",
    "    from manot import manotAI\n",
    "except ImportError:\n",
    "    !pip install -U manot\n",
    "    from manot import manotAI\n"
   ]
  },
  {
   "cell_type": "markdown",
   "id": "8c1a9213",
   "metadata": {},
   "source": [
    "### Initialize manot"
   ]
  },
  {
   "cell_type": "code",
   "execution_count": null,
   "id": "7eabdac8",
   "metadata": {},
   "outputs": [],
   "source": [
    "manot = manotAI('YOUR MANOT URL', token='YOUR MANOT TOKEN HERE')"
   ]
  },
  {
   "cell_type": "markdown",
   "id": "e39fde4d",
   "metadata": {},
   "source": [
    "### Setup a project in manot from data stored in GCS bucket. Detections should be done with 5% threshold."
   ]
  },
  {
   "cell_type": "code",
   "execution_count": null,
   "id": "dc078684",
   "metadata": {},
   "outputs": [],
   "source": [
    "setup_dir = 'directory of validation data and predictions on that data in gcs bucket'\n",
    "setup = manot.setup(data_provider=\"gcs\",\n",
    "                    arguments={\n",
    "                        \"name\": \"manot-gcs-detection\",\n",
    "                        \"images_path\": f\"{setup_dir}/images/\",\n",
    "                        \"ground_truths_path\": f\"{setup_dir}/ground_truths/\",\n",
    "                        \"detections_path\": f\"{setup_dir}/detections\",\n",
    "                        \"detections_metadata_format\": \"xyx2y2\", # Format of detection files (cxcywh, xywh, xyx2y2).\n",
    "                        \"classes_txt_path\": f\"{setup_dir}/classes.txt\",\n",
    "                        \"task\": 'detection'\n",
    "                    }\n",
    ")"
   ]
  },
  {
   "cell_type": "markdown",
   "id": "9052755b",
   "metadata": {},
   "source": [
    "### Get insight on data where percentage is the percentage of images we want to consider insights."
   ]
  },
  {
   "cell_type": "code",
   "execution_count": null,
   "id": "708a9d17",
   "metadata": {},
   "outputs": [],
   "source": [
    "insight_dir = 'directory of real time data stored in gcs bucket'\n",
    "insight = manot.insight(\n",
    "    name='manot-gcs-detection',\n",
    "    setup_id=setup[\"id\"],\n",
    "    data_path=f'{insight_dir}/images',\n",
    "    data_provider='gcs',\n",
    "    percentage=2\n",
    ")\n"
   ]
  },
  {
   "cell_type": "code",
   "execution_count": null,
   "id": "d073863b",
   "metadata": {},
   "outputs": [],
   "source": [
    "insight_info = manot.get_insight(insight['id'])"
   ]
  },
  {
   "cell_type": "markdown",
   "id": "d010704c",
   "metadata": {},
   "source": [
    "### Calculate accuracy on identified samples"
   ]
  },
  {
   "cell_type": "code",
   "execution_count": null,
   "id": "d773689e",
   "metadata": {},
   "outputs": [],
   "source": [
    "\n",
    "mAP = manot.calculate_map(data_provider='gcs',\n",
    "                              ground_truths_path=f'{real_time_dir}/labels/',\n",
    "                              detections_path=f'{real_time_dir}/detections/',\n",
    "                              classes_txt_path=f'{real_time_dir}/classes.txt',\n",
    "                              data_set_id=insight_info['data_set']['id']\n",
    "                              )\n",
    "mAP"
   ]
  },
  {
   "cell_type": "markdown",
   "id": "d7b5a2dc",
   "metadata": {},
   "source": [
    "### Visualize data"
   ]
  },
  {
   "cell_type": "code",
   "execution_count": null,
   "id": "1ff003e7",
   "metadata": {},
   "outputs": [],
   "source": [
    "manot.visualize_data_set(insight_info['data_set']['id'], group_similar=True)"
   ]
  }
 ],
 "metadata": {
  "kernelspec": {
   "display_name": "Python 3 (ipykernel)",
   "language": "python",
   "name": "python3"
  },
  "language_info": {
   "codemirror_mode": {
    "name": "ipython",
    "version": 3
   },
   "file_extension": ".py",
   "mimetype": "text/x-python",
   "name": "python",
   "nbconvert_exporter": "python",
   "pygments_lexer": "ipython3",
   "version": "3.9.13"
  }
 },
 "nbformat": 4,
 "nbformat_minor": 5
}
