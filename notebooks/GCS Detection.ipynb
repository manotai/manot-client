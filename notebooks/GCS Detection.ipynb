{
 "cells": [
  {
   "cell_type": "markdown",
   "id": "30075373",
   "metadata": {},
   "source": [
    "# manot insights for detection model using data stored in GCS bucket\n",
    "### In this tutorial we will show how to use manot to get insights on your data stored in GCS bucket. By default the data will be stored in manot-managed GCS bucket, but in case of on-premise solution you can use your own GCS bucket to store data"
   ]
  },
  {
   "cell_type": "markdown",
   "id": "e110ca10",
   "metadata": {},
   "source": [
    "### Install `manot` with `pip install manot` and import the package\n"
   ]
  },
  {
   "cell_type": "code",
   "execution_count": null,
   "id": "d0139ca3",
   "metadata": {},
   "outputs": [],
   "source": [
    "try:\n",
    "    from manot import manotAI\n",
    "except ImportError:\n",
    "    !pip install -U manot\n",
    "    from manot import manotAI\n"
   ]
  },
  {
   "cell_type": "markdown",
   "id": "8c1a9213",
   "metadata": {},
   "source": [
    "### Initialize manot"
   ]
  },
  {
   "cell_type": "code",
   "execution_count": null,
   "id": "7eabdac8",
   "metadata": {},
   "outputs": [],
   "source": [
    "manot = manotAI('YOUR MANOT URL', token='YOUR MANOT TOKEN HERE')"
   ]
  },
  {
   "cell_type": "markdown",
   "id": "e39fde4d",
   "metadata": {},
   "source": [
    "### Setup a project in manot from data stored in GCS bucket. Detections should be done with 5% threshold."
   ]
  },
  {
   "cell_type": "code",
   "execution_count": null,
   "id": "dc078684",
   "metadata": {},
   "outputs": [],
   "source": [
    "project_dir = 'directory of validation data and predictions on that data in gcs bucket'\n",
    "project = manot.create_project(\n",
    "    data_provider=\"gcs\",\n",
    "    arguments={\n",
    "        \"name\": \"manot-gcs-detection\",\n",
    "        \"images_path\": f\"{project_dir}/images/\",\n",
    "        \"ground_truths_path\": f\"{project_dir}/ground_truths/\",\n",
    "        \"detections_path\": f\"{project_dir}/detections\",\n",
    "        \"detections_metadata_format\": \"xyx2y2\", # Format of detection files (cxcywh, xywh, xyx2y2).\n",
    "        \"classes_txt_path\": f\"{project_dir}/classes.txt\",\n",
    "        \"task\": 'detection',\n",
    "        \"description\": \"The project description\", # by default, it is None\n",
    "    }\n",
    ")"
   ]
  },
  {
   "cell_type": "markdown",
   "id": "9052755b",
   "metadata": {},
   "source": [
    "### Get insight on data where percentage is the percentage of images we want to consider insights."
   ]
  },
  {
   "cell_type": "code",
   "execution_count": null,
   "id": "708a9d17",
   "metadata": {},
   "outputs": [],
   "source": [
    "evaluation_dir = 'directory of real time data stored in gcs bucket'\n",
    "evaluation = manot.evaluate(\n",
    "    name='manot-gcs-detection',\n",
    "    project_id=project[\"id\"],\n",
    "    data_path=f'{evaluation_dir}/images',\n",
    "    data_provider='gcs',\n",
    "    percentage=2,\n",
    "    description=\"The evaluation description\", # by default, it is None\n",
    ")\n"
   ]
  },
  {
   "cell_type": "code",
   "execution_count": null,
   "id": "d073863b",
   "metadata": {},
   "outputs": [],
   "source": [
    "evaluation_info = manot.get_evaluation(evaluation['id'])"
   ]
  },
  {
   "cell_type": "markdown",
   "id": "d010704c",
   "metadata": {},
   "source": [
    "### Calculate accuracy on identified samples"
   ]
  },
  {
   "cell_type": "code",
   "execution_count": null,
   "id": "d773689e",
   "metadata": {},
   "outputs": [],
   "source": [
    "mAP = manot.calculate_map(data_provider='gcs',\n",
    "                              ground_truths_path=f'{evaluation_dir}/labels/',\n",
    "                              detections_path=f'{evaluation_dir}/detections/',\n",
    "                              classes_txt_path=f'{evaluation_dir}/classes.txt',\n",
    "                              data_set_id=evaluation_info['data_set']['id']\n",
    "                              )\n",
    "mAP"
   ]
  },
  {
   "cell_type": "markdown",
   "id": "d7b5a2dc",
   "metadata": {},
   "source": [
    "### Visualize data"
   ]
  },
  {
   "cell_type": "code",
   "execution_count": null,
   "id": "1ff003e7",
   "metadata": {},
   "outputs": [],
   "source": [
    "manot.visualize_data_set(evaluation_info['data_set']['id'], group_similar=True)"
   ]
  }
 ],
 "metadata": {
  "kernelspec": {
   "display_name": "Python 3 (ipykernel)",
   "language": "python",
   "name": "python3"
  },
  "language_info": {
   "codemirror_mode": {
    "name": "ipython",
    "version": 3
   },
   "file_extension": ".py",
   "mimetype": "text/x-python",
   "name": "python",
   "nbconvert_exporter": "python",
   "pygments_lexer": "ipython3",
   "version": "3.9.13"
  }
 },
 "nbformat": 4,
 "nbformat_minor": 5
}
