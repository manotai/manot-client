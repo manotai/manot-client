{
 "cells": [
  {
   "cell_type": "markdown",
   "id": "9c0aa71f",
   "metadata": {},
   "source": [
    "# manot insights for detection model using huggingface dataset( applicable for on-premise solutions)\n",
    "### In this tutorial we will show how to use manot to get insights on your huggingface dataset"
   ]
  },
  {
   "cell_type": "markdown",
   "id": "4965397c",
   "metadata": {},
   "source": [
    "### Install `manot` with `pip install manot` and import the package"
   ]
  },
  {
   "cell_type": "code",
   "execution_count": null,
   "id": "48cfd25e",
   "metadata": {},
   "outputs": [],
   "source": [
    "try:\n",
    "    from manot import manotAI\n",
    "except ImportError:\n",
    "    !pip install -U manot\n",
    "    from manot import manotAI"
   ]
  },
  {
   "cell_type": "markdown",
   "id": "ff19e8f1-ed0f-47f6-9353-f513082a44c4",
   "metadata": {},
   "source": [
    "### Select huggingface model and dataset"
   ]
  },
  {
   "cell_type": "code",
   "execution_count": null,
   "id": "a81daae1",
   "metadata": {},
   "outputs": [],
   "source": [
    "huggingface_dataset = 'keremberke/nfl-object-detection'\n",
    "huggingface_model = 'keremberke/yolov5s-football'"
   ]
  },
  {
   "cell_type": "markdown",
   "id": "38eef517",
   "metadata": {},
   "source": [
    "### Initialize manot"
   ]
  },
  {
   "cell_type": "code",
   "execution_count": null,
   "id": "77aa5071",
   "metadata": {},
   "outputs": [],
   "source": [
    "manot = manotAI('YOUR MANOT URL', token='YOUR MANOT TOKEN HERE')"
   ]
  },
  {
   "cell_type": "markdown",
   "id": "3354b027",
   "metadata": {},
   "source": [
    "### Get insight on data where percentage is the percentage of images we want to consider insights."
   ]
  },
  {
   "cell_type": "code",
   "execution_count": null,
   "id": "b5b2d9ff",
   "metadata": {},
   "outputs": [],
   "source": [
    "evaluation = manot.huggingface_evaluation(\n",
    "    name='manot-huggingface-detection',\n",
    "    data_path=huggingface_dataset,\n",
    "    model_path=huggingface_model,\n",
    "    task=\"detection\",\n",
    "    percentage=0.5,\n",
    "    description=\"The evaluation description\", # by default, it is None\n",
    ")\n",
    "evaluation_info = manot.get_evaluation(evaluation[\"id\"])"
   ]
  },
  {
   "cell_type": "markdown",
   "id": "0b25147b",
   "metadata": {},
   "source": [
    "### Visualize data\n"
   ]
  },
  {
   "cell_type": "code",
   "execution_count": null,
   "id": "fba869db",
   "metadata": {},
   "outputs": [],
   "source": [
    "manot.visualize_data_set(evaluation_info['data_set']['id'], with_inference=True,huggingface_model=huggingface_model)"
   ]
  }
 ],
 "metadata": {
  "kernelspec": {
   "display_name": "Python 3 (ipykernel)",
   "language": "python",
   "name": "python3"
  },
  "language_info": {
   "codemirror_mode": {
    "name": "ipython",
    "version": 3
   },
   "file_extension": ".py",
   "mimetype": "text/x-python",
   "name": "python",
   "nbconvert_exporter": "python",
   "pygments_lexer": "ipython3",
   "version": "3.9.13"
  }
 },
 "nbformat": 4,
 "nbformat_minor": 5
}
