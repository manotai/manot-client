{
 "cells": [
  {
   "cell_type": "markdown",
   "id": "70e11f9f",
   "metadata": {},
   "source": [
    "# manot insights on data from huggingface dataset\n",
    "## In this tutorial we will show how to use manot to get insights on your data using hugginface data"
   ]
  },
  {
   "cell_type": "markdown",
   "id": "be256564",
   "metadata": {},
   "source": [
    "### Install `manot` with `pip install manot` and import the package\n"
   ]
  },
  {
   "cell_type": "code",
   "execution_count": null,
   "id": "a015e3d1",
   "metadata": {},
   "outputs": [],
   "source": [
    "try:\n",
    "    from manot import manotAI\n",
    "except ImportError:\n",
    "    !pip install -U manot\n",
    "    from manot import manotAI\n"
   ]
  },
  {
   "cell_type": "markdown",
   "id": "f46444ee",
   "metadata": {},
   "source": [
    "### Initialize manot"
   ]
  },
  {
   "cell_type": "code",
   "execution_count": null,
   "id": "77aa5071",
   "metadata": {},
   "outputs": [],
   "source": [
    "manot = manotAI('YOUR MANOT URL', token='YOUR MANOT TOKEN HERE')"
   ]
  },
  {
   "cell_type": "markdown",
   "id": "e686bb93",
   "metadata": {},
   "source": [
    "### Setup a project in manot using any data provider (s3,deeplake, local)  in this example we will use local machine "
   ]
  },
  {
   "cell_type": "code",
   "execution_count": null,
   "id": "1b561f7c",
   "metadata": {},
   "outputs": [],
   "source": [
    "setup_dir = 'setup_dir_on_local_machine'\n",
    "setup = manot.setup(data_provider=\"local\",\n",
    "                    arguments={\n",
    "                        \"name\": \"manot-local-detection\",\n",
    "                        \"detections_metadata_format\": \"xyx2y2\",  # it must be one of \"xyx2y2\", \"xywh\", or \"cxcywh\"\n",
    "                        \"images_path\": f\"{setup_dir}/images/\",\n",
    "                        \"ground_truths_path\": f\"{setup_dir}/labels\",\n",
    "                        \"detections_path\": f\"{setup_dir}/detections005\",\n",
    "                        \"classes_txt_path\": f\"{setup_dir}/classes.txt\",\n",
    "                        \"task\": 'detection'\n",
    "                    }\n",
    ")"
   ]
  },
  {
   "cell_type": "markdown",
   "id": "6d215f2c",
   "metadata": {},
   "source": [
    "### Get insight on data from huggingface dataset where percentage is the percentage of images we want to consider insights."
   ]
  },
  {
   "cell_type": "code",
   "execution_count": null,
   "id": "b5b2d9ff",
   "metadata": {},
   "outputs": [],
   "source": [
    "insight = manot.insight(\n",
    "    name='manot-huggingface-detection',\n",
    "    setup_id=setup[\"id\"],\n",
    "    data_path='huggingface_dataset_name',\n",
    "    data_provider='huggingface',\n",
    "    percentage=2\n",
    ")\n"
   ]
  },
  {
   "cell_type": "markdown",
   "id": "9277b8d7",
   "metadata": {},
   "source": [
    "### Visualize insights"
   ]
  },
  {
   "cell_type": "code",
   "execution_count": null,
   "id": "fba869db",
   "metadata": {},
   "outputs": [],
   "source": [
    "manot.visualize_data_set(insight_info['data_set']['id'])"
   ]
  }
 ],
 "metadata": {
  "kernelspec": {
   "display_name": "Python 3 (ipykernel)",
   "language": "python",
   "name": "python3"
  },
  "language_info": {
   "codemirror_mode": {
    "name": "ipython",
    "version": 3
   },
   "file_extension": ".py",
   "mimetype": "text/x-python",
   "name": "python",
   "nbconvert_exporter": "python",
   "pygments_lexer": "ipython3",
   "version": "3.9.13"
  }
 },
 "nbformat": 4,
 "nbformat_minor": 5
}
