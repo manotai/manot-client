{
 "cells": [
  {
   "cell_type": "markdown",
   "id": "183f3958",
   "metadata": {},
   "source": [
    "# manot insights for classification model using data stored in GCS\n",
    "### In this tutorial we will show how to use manot to get insights on your data stored in GCS bucket. By default the data will be stored in manot-managed GCS bucket, but in case of on-premise solution you can use your own GCS bucket to store data"
   ]
  },
  {
   "cell_type": "markdown",
   "id": "e110ca10",
   "metadata": {},
   "source": [
    "### Install `manot` with `pip install manot` and import the package\n"
   ]
  },
  {
   "cell_type": "code",
   "execution_count": 1,
   "id": "18bb61fb",
   "metadata": {},
   "outputs": [],
   "source": [
    "try:\n",
    "    from manot import manotAI\n",
    "except ImportError:\n",
    "    !pip install -U manot\n",
    "    from manot import manotAI\n"
   ]
  },
  {
   "cell_type": "code",
   "execution_count": null,
   "id": "500e5fda",
   "metadata": {},
   "outputs": [],
   "source": [
    "project_dir = 'project_dir_on_gcs'\n",
    "evaluation_dir = 'evaluation_dir_on_gcs'\n",
    "manot_token= 'YOUR MANOT TOKEN HERE'\n",
    "manot_url=  'YOUR MANOT URL'"
   ]
  },
  {
   "cell_type": "markdown",
   "id": "8c1a9213",
   "metadata": {},
   "source": [
    "### Initialize manot"
   ]
  },
  {
   "cell_type": "code",
   "execution_count": null,
   "id": "920e8fcf",
   "metadata": {},
   "outputs": [],
   "source": [
    "manot = manotAI(manot_url, token=manot_token)"
   ]
  },
  {
   "cell_type": "markdown",
   "id": "e39fde4d",
   "metadata": {},
   "source": [
    "### Create a project in manot from data stored in GCS bucket. Detections should be done with 5% threshold."
   ]
  },
  {
   "cell_type": "code",
   "execution_count": null,
   "id": "221443db",
   "metadata": {},
   "outputs": [],
   "source": [
    "project = manot.create_project(data_provider=\"gcs\",\n",
    "                    arguments={\n",
    "                        \"name\": \"manot-gcs-classification\",\n",
    "                        \"images_path\": f\"{project_dir}/images/\",\n",
    "                        \"detections_path\": f\"{project_dir}/detections\",\n",
    "                        \"classes_txt_path\": f\"{project_dir}/classes.txt\",\n",
    "                        \"task\": 'classification'\n",
    "                    }\n",
    ")"
   ]
  },
  {
   "cell_type": "markdown",
   "id": "9052755b",
   "metadata": {},
   "source": [
    "### Get insight on data where percentage is the percentage of images we want to consider insights."
   ]
  },
  {
   "cell_type": "code",
   "execution_count": null,
   "id": "912742d4",
   "metadata": {},
   "outputs": [],
   "source": [
    "evaluation = manot.evaluate(\n",
    "    name='manot-gcs-classification',\n",
    "    project_id=project[\"id\"],\n",
    "    data_path=f'{evaluation_dir}/images',\n",
    "    data_provider='gcs',\n",
    "    percentage=2\n",
    ")"
   ]
  },
  {
   "cell_type": "code",
   "execution_count": null,
   "id": "1ce46f12",
   "metadata": {},
   "outputs": [],
   "source": [
    "evaluation_info = manot.get_evaluation(evaluation['id'])"
   ]
  },
  {
   "cell_type": "markdown",
   "id": "d010704c",
   "metadata": {},
   "source": [
    "### Calculate accuracy on identified samples"
   ]
  },
  {
   "cell_type": "code",
   "execution_count": null,
   "id": "46bdd77d",
   "metadata": {},
   "outputs": [],
   "source": [
    "accuracy = manot.calculate_accuracy(\n",
    "      data_provider='gcs',                           \n",
    "      images_path=f'{evaluation_dir}/images/',\n",
    "      predictions_path=f'{evaluation_dir}/predictions/',\n",
    "      classes_txt_path=f'{evaluation_dir}/classes.txt',\n",
    "      data_set_id=evaluation_info['data_set']['id']\n",
    ")\n",
    "accuracy"
   ]
  },
  {
   "cell_type": "markdown",
   "id": "d7b5a2dc",
   "metadata": {},
   "source": [
    "### Visualize data"
   ]
  },
  {
   "cell_type": "code",
   "execution_count": null,
   "id": "4132f4bb",
   "metadata": {},
   "outputs": [],
   "source": [
    "manot.visualize_data_set(evaluation_info['data_set']['id'], group_similar=True)"
   ]
  }
 ],
 "metadata": {
  "kernelspec": {
   "display_name": "Python 3 (ipykernel)",
   "language": "python",
   "name": "python3"
  },
  "language_info": {
   "codemirror_mode": {
    "name": "ipython",
    "version": 3
   },
   "file_extension": ".py",
   "mimetype": "text/x-python",
   "name": "python",
   "nbconvert_exporter": "python",
   "pygments_lexer": "ipython3",
   "version": "3.9.13"
  }
 },
 "nbformat": 4,
 "nbformat_minor": 5
}
