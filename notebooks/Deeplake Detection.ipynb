{
 "cells": [
  {
   "cell_type": "markdown",
   "id": "c5e2d208",
   "metadata": {},
   "source": [
    "# manot insights for detection model using deeplake\n",
    "### In this tutorial we will show how to use manot to get insights on your data using deeplake as a data provider"
   ]
  },
  {
   "cell_type": "markdown",
   "id": "9f7c5df2",
   "metadata": {},
   "source": [
    "### Install `manot` with `pip install manot` and import the package\n"
   ]
  },
  {
   "cell_type": "code",
   "execution_count": null,
   "id": "d0139ca3",
   "metadata": {},
   "outputs": [],
   "source": [
    "try:\n",
    "    from manot import manotAI\n",
    "except ImportError:\n",
    "    !pip install -U manot\n",
    "    from manot import manotAI\n"
   ]
  },
  {
   "cell_type": "markdown",
   "id": "729ab541",
   "metadata": {},
   "source": [
    "### Initialize manot"
   ]
  },
  {
   "cell_type": "code",
   "execution_count": 3,
   "id": "7eabdac8",
   "metadata": {},
   "outputs": [],
   "source": [
    "manot = manotAI('YOUR MANOT URL', token='YOUR MANOT TOKEN HERE')"
   ]
  },
  {
   "cell_type": "markdown",
   "id": "0c37c126",
   "metadata": {},
   "source": [
    "### Setup a project in manot using deeplake as data provider where data_set is name of validation dataset used for training the model. Detections should be done with 5% threshold."
   ]
  },
  {
   "cell_type": "code",
   "execution_count": null,
   "id": "dc078684",
   "metadata": {},
   "outputs": [],
   "source": [
    "project = manot.create_project(data_provider=\"deeplake\",\n",
    "                    arguments={\n",
    "                        \"name\": \"deeplake-detections\",\n",
    "                        \"data_set\": \"user/dataset\",\n",
    "                        \"detections_boxes_key\": \"predicted_bbox\",\n",
    "                        \"detections_labels_key\": \"predicted_labels\",\n",
    "                        \"detections_score_key\": \"predicted_score\",\n",
    "                        \"ground_truths_labels_key\": \"labels\",\n",
    "                        'ground_truths_boxes_key': 'bbox',\n",
    "                        \"classes\": [\"person\"],\n",
    "                        \"deeplake_token\": 'YOUR DEEPLAKE TOKEN HERE',\n",
    "                        \"data_provider\": \"deeplake\",\n",
    "                        \"task\": \"detection\"\n",
    "                    }\n",
    ")"
   ]
  },
  {
   "cell_type": "markdown",
   "id": "4396fa66",
   "metadata": {},
   "source": [
    "### Get insight on data from deeplake where data path is name of deeplake dataset containing your real time data, percentage is the percentage of images we want to consider insights."
   ]
  },
  {
   "cell_type": "code",
   "execution_count": null,
   "id": "708a9d17",
   "metadata": {},
   "outputs": [],
   "source": [
    "evaluation = manot.evaluate(\n",
    "    name='manot-deeplake-detection',\n",
    "    project_id=project[\"id\"],\n",
    "    data_path=f'user/evaluation_dataset',\n",
    "    data_provider='deeplake',\n",
    "    deeplake_token='YOUR DEEPLAKE TOKEN HERE',\n",
    "    percentage=2\n",
    ")\n"
   ]
  },
  {
   "cell_type": "code",
   "execution_count": null,
   "id": "7096b874",
   "metadata": {},
   "outputs": [],
   "source": [
    "evaluation_info = manot.get_evaluation(evaluation['id'])"
   ]
  },
  {
   "cell_type": "markdown",
   "id": "9f08ff9a",
   "metadata": {},
   "source": [
    "### Visualize the Data"
   ]
  },
  {
   "cell_type": "code",
   "execution_count": null,
   "id": "1ff003e7",
   "metadata": {},
   "outputs": [],
   "source": [
    "manot.visualize_data_set(evaluation_info['data_set']['id'],deeplake_token='YOUR DEEPLAKE TOKEN HERE', group_similar=True)"
   ]
  }
 ],
 "metadata": {
  "kernelspec": {
   "display_name": "Python 3 (ipykernel)",
   "language": "python",
   "name": "python3"
  },
  "language_info": {
   "codemirror_mode": {
    "name": "ipython",
    "version": 3
   },
   "file_extension": ".py",
   "mimetype": "text/x-python",
   "name": "python",
   "nbconvert_exporter": "python",
   "pygments_lexer": "ipython3",
   "version": "3.9.13"
  }
 },
 "nbformat": 4,
 "nbformat_minor": 5
}
