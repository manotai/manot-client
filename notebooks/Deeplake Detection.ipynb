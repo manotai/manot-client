{
 "cells": [
  {
   "cell_type": "code",
   "execution_count": null,
   "id": "d0139ca3",
   "metadata": {},
   "outputs": [],
   "source": [
    "!pip3 install manot\n"
   ]
  },
  {
   "cell_type": "code",
   "execution_count": null,
   "id": "0faacb92",
   "metadata": {},
   "outputs": [],
   "source": [
    "from manot import manotAI"
   ]
  },
  {
   "cell_type": "code",
   "execution_count": null,
   "id": "62eba5e4",
   "metadata": {},
   "outputs": [],
   "source": [
    "setup_dataset = 'deeplake_data_set_for_setup'\n",
    "real_time_dataset = 'deeplake_data_set_for_real_time'\n",
    "manot_token= 'YOUR MANOT TOKEN HERE'\n",
    "manot_url=  'YOUR MANOT URL'\n",
    "deeplake_token= 'YOUR DEEPLAKE TOKEN HERE'"
   ]
  },
  {
   "cell_type": "code",
   "execution_count": null,
   "id": "7eabdac8",
   "metadata": {},
   "outputs": [],
   "source": [
    "manot = manotAI(manot_url, token=manot_token)"
   ]
  },
  {
   "cell_type": "code",
   "execution_count": null,
   "id": "dc078684",
   "metadata": {},
   "outputs": [],
   "source": [
    "    setup = manot.setup(data_provider=\"deeplake\",\n",
    "                        arguments={\n",
    "                            \"name\": \"deeplake-detections\",\n",
    "                            \"data_set\": \"user/dataset\", \n",
    "                            \"detections_boxes_key\": \"predicted_bbox\",\n",
    "                            \"detections_labels_key\": \"predicted_labels\",\n",
    "                            \"detections_score_key\": \"predicted_score\",\n",
    "                            \"ground_truths_labels_key\": \"labels\",\n",
    "                            'ground_truths_boxes_key': 'bbox',\n",
    "                            \"classes\": [\"person\"],\n",
    "                            \"deeplake_token\": deeplake_token,\n",
    "                            \"data_provider\": \"deeplake\",\n",
    "                            \"task\": \"detection\"\n",
    "                        }\n",
    "    )"
   ]
  },
  {
   "cell_type": "code",
   "execution_count": null,
   "id": "ddef6d06",
   "metadata": {},
   "outputs": [],
   "source": [
    "setup_info = manot.get_setup(setup['id'])"
   ]
  },
  {
   "cell_type": "code",
   "execution_count": null,
   "id": "708a9d17",
   "metadata": {},
   "outputs": [],
   "source": [
    "    insight = manot.insight(\n",
    "        name='manot-deeplake-detection',\n",
    "        setup_id=setup_info[\"id\"],\n",
    "        data_path=f'{real_time_dir}/images',\n",
    "        data_provider='deeplake',\n",
    "        percentage=2\n",
    "    )\n"
   ]
  },
  {
   "cell_type": "code",
   "execution_count": null,
   "id": "7096b874",
   "metadata": {},
   "outputs": [],
   "source": [
    "insight_info = manot.get_insight(insight['id'])"
   ]
  },
  {
   "cell_type": "code",
   "execution_count": null,
   "id": "1ff003e7",
   "metadata": {},
   "outputs": [],
   "source": [
    "manot.visualize_data_set(insight_info['data_set']['id'])"
   ]
  }
 ],
 "metadata": {
  "kernelspec": {
   "display_name": "Python 3 (ipykernel)",
   "language": "python",
   "name": "python3"
  },
  "language_info": {
   "codemirror_mode": {
    "name": "ipython",
    "version": 3
   },
   "file_extension": ".py",
   "mimetype": "text/x-python",
   "name": "python",
   "nbconvert_exporter": "python",
   "pygments_lexer": "ipython3",
   "version": "3.9.13"
  }
 },
 "nbformat": 4,
 "nbformat_minor": 5
}
