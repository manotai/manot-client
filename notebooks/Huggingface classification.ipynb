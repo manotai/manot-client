{
 "cells": [
  {
   "cell_type": "code",
   "execution_count": null,
   "id": "a015e3d1",
   "metadata": {},
   "outputs": [],
   "source": [
    "!pip3 install manot\n"
   ]
  },
  {
   "cell_type": "code",
   "execution_count": null,
   "id": "48cfd25e",
   "metadata": {},
   "outputs": [],
   "source": [
    "from manot import manotAI"
   ]
  },
  {
   "cell_type": "code",
   "execution_count": null,
   "id": "a81daae1",
   "metadata": {},
   "outputs": [],
   "source": [
    "setup_dir = 'setup_dir_on_local_machine'\n",
    "huggingface_dataset = 'Hugging face dataset name'\n",
    "manot_token= 'YOUR MANOT TOKEN HERE'\n",
    "manot_url=  'YOUR MANOT URL'"
   ]
  },
  {
   "cell_type": "code",
   "execution_count": null,
   "id": "77aa5071",
   "metadata": {},
   "outputs": [],
   "source": [
    "manot = manotAI(manot_url, token=manot_token)"
   ]
  },
  {
   "cell_type": "code",
   "execution_count": null,
   "id": "1b561f7c",
   "metadata": {},
   "outputs": [],
   "source": [
    "### Setup can be run with either local, s3 or deeplake\n",
    "### Detections should be done with 5% confidence threshold\n",
    "setup = manot.setup(data_provider=\"local\",\n",
    "                    arguments={\n",
    "                        \"name\": \"manot-local-classification\",\n",
    "                        \"images_path\": f\"{setup_dir}/images/\",\n",
    "                        \"detections_path\": f\"{setup_dir}/detections\",\n",
    "                        \"classes_txt_path\": f\"{setup_dir}/classes.txt\",\n",
    "                        \"task\": 'classification'\n",
    "                    }\n",
    ")"
   ]
  },
  {
   "cell_type": "code",
   "execution_count": null,
   "id": "a408bd82",
   "metadata": {},
   "outputs": [],
   "source": [
    "setup_info = manot.get_setup(setup['id'])"
   ]
  },
  {
   "cell_type": "code",
   "execution_count": null,
   "id": "b5b2d9ff",
   "metadata": {},
   "outputs": [],
   "source": [
    "    insight = manot.insight(\n",
    "        name='manot-huggingface-classification',\n",
    "        setup_id=setup_info[\"id\"],\n",
    "        data_path=huggingface_dataset,\n",
    "        data_provider='huggingface',\n",
    "        percentage=2\n",
    "    )\n"
   ]
  },
  {
   "cell_type": "code",
   "execution_count": null,
   "id": "fba869db",
   "metadata": {},
   "outputs": [],
   "source": []
  }
 ],
 "metadata": {
  "kernelspec": {
   "display_name": "Python 3 (ipykernel)",
   "language": "python",
   "name": "python3"
  },
  "language_info": {
   "codemirror_mode": {
    "name": "ipython",
    "version": 3
   },
   "file_extension": ".py",
   "mimetype": "text/x-python",
   "name": "python",
   "nbconvert_exporter": "python",
   "pygments_lexer": "ipython3",
   "version": "3.9.13"
  }
 },
 "nbformat": 4,
 "nbformat_minor": 5
}
