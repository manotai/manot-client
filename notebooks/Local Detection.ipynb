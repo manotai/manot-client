{
 "cells": [
  {
   "cell_type": "markdown",
   "id": "927a3878",
   "metadata": {},
   "source": [
    "# manot insights for detection model using data stored on local machine( applicable for on-premise solutions)\n",
    "### In this tutorial we will show how to use manot to get insights on your data stored on local machine"
   ]
  },
  {
   "cell_type": "markdown",
   "id": "1c7e18d7",
   "metadata": {},
   "source": [
    "### Install `manot` with `pip install manot` and import the package\n"
   ]
  },
  {
   "cell_type": "code",
   "execution_count": 2,
   "id": "18bb61fb",
   "metadata": {},
   "outputs": [],
   "source": [
    "try:\n",
    "    from manot import manotAI\n",
    "except ImportError:\n",
    "    !pip install -U manot\n",
    "    from manot import manotAI\n"
   ]
  },
  {
   "cell_type": "code",
   "execution_count": null,
   "id": "9344d4fc",
   "metadata": {},
   "outputs": [],
   "source": [
    "from manot import manotAI"
   ]
  },
  {
   "cell_type": "markdown",
   "id": "6d6a1055",
   "metadata": {},
   "source": [
    "### Initialize manot\n"
   ]
  },
  {
   "cell_type": "code",
   "execution_count": null,
   "id": "920e8fcf",
   "metadata": {},
   "outputs": [],
   "source": [
    "manot = manotAI('YOUR MANOT URL', token='YOUR MANOT TOKEN HERE')"
   ]
  },
  {
   "cell_type": "markdown",
   "id": "5461e5fd",
   "metadata": {},
   "source": [
    "### Setup a project in manot from data stored on local machine"
   ]
  },
  {
   "cell_type": "code",
   "execution_count": null,
   "id": "221443db",
   "metadata": {},
   "outputs": [],
   "source": [
    "project_dir = 'directory of validation data and detections on that data on local machine'\n",
    "project = manot.create_project(data_provider=\"local\",\n",
    "                    arguments={\n",
    "                        \"name\": \"manot-local-detection\",\n",
    "                        \"detections_metadata_format\": \"xyx2y2\",  # it must be one of \"xyx2y2\", \"xywh\", or \"cxcywh\"\n",
    "                        \"images_path\": f\"{project_dir}/images/\",\n",
    "                        \"ground_truths_path\": f\"{project_dir}/labels\",\n",
    "                        \"detections_path\": f\"{project_dir}/detections005\",\n",
    "                        \"classes_txt_path\": f\"{project_dir}/classes.txt\",\n",
    "                        \"task\": 'detection'\n",
    "                    }\n",
    ")"
   ]
  },
  {
   "cell_type": "markdown",
   "id": "a52eafb6",
   "metadata": {},
   "source": [
    "### Get insight on data where percentage is the percentage of images we want to consider insights."
   ]
  },
  {
   "cell_type": "code",
   "execution_count": null,
   "id": "912742d4",
   "metadata": {},
   "outputs": [],
   "source": [
    "evaluation = manot.evaluate(\n",
    "    name='manot-local-detection',\n",
    "    project_id=project[\"id\"],\n",
    "    data_path=f'{evaluation_dir}/images',\n",
    "    data_provider='local',\n",
    "    percentage=2\n",
    ")"
   ]
  },
  {
   "cell_type": "code",
   "execution_count": null,
   "id": "1ce46f12",
   "metadata": {},
   "outputs": [],
   "source": [
    "evaluation_info = manot.get_evaluation(evaluation['id'])"
   ]
  },
  {
   "cell_type": "markdown",
   "id": "fbd6996c",
   "metadata": {},
   "source": [
    "### Calculate accuracy on identified samples"
   ]
  },
  {
   "cell_type": "code",
   "execution_count": null,
   "id": "46bdd77d",
   "metadata": {},
   "outputs": [],
   "source": [
    "mAP = manot.calculate_map(data_provider='local',\n",
    "                              ground_truths_path=f'{evaluation_dir}/labels/',\n",
    "                              detections_path=f'{evaluation_dir}/detections/',\n",
    "                              classes_txt_path=f'{evaluation_dir}/classes.txt',\n",
    "                              data_set_id=evaluation_info['data_set']['id']\n",
    "                              )\n",
    "mAP"
   ]
  },
  {
   "cell_type": "markdown",
   "id": "66d51036",
   "metadata": {},
   "source": [
    "### Visualize data"
   ]
  },
  {
   "cell_type": "code",
   "execution_count": null,
   "id": "4132f4bb",
   "metadata": {},
   "outputs": [],
   "source": [
    "manot.visualize_data_set(evaluation_info['data_set']['id'], group_similar=True)"
   ]
  }
 ],
 "metadata": {
  "kernelspec": {
   "display_name": "Python 3 (ipykernel)",
   "language": "python",
   "name": "python3"
  },
  "language_info": {
   "codemirror_mode": {
    "name": "ipython",
    "version": 3
   },
   "file_extension": ".py",
   "mimetype": "text/x-python",
   "name": "python",
   "nbconvert_exporter": "python",
   "pygments_lexer": "ipython3",
   "version": "3.9.13"
  }
 },
 "nbformat": 4,
 "nbformat_minor": 5
}
