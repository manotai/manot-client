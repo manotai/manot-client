{
 "cells": [
  {
   "cell_type": "markdown",
   "source": [
    "# Installing manot"
   ],
   "metadata": {
    "collapsed": false
   }
  },
  {
   "cell_type": "code",
   "execution_count": null,
   "outputs": [],
   "source": [
    "!pip install manot"
   ],
   "metadata": {
    "collapsed": false
   }
  },
  {
   "cell_type": "markdown",
   "source": [
    "# Importing manot"
   ],
   "metadata": {
    "collapsed": false
   }
  },
  {
   "cell_type": "code",
   "execution_count": null,
   "outputs": [],
   "source": [
    "from manot import manotAI"
   ],
   "metadata": {
    "collapsed": false
   }
  },
  {
   "cell_type": "markdown",
   "source": [
    "**manot API** : https://api.manot.ai/api-documentation/v1"
   ],
   "metadata": {
    "collapsed": false
   }
  },
  {
   "cell_type": "code",
   "execution_count": null,
   "id": "4cafe4d6",
   "metadata": {},
   "outputs": [],
   "source": [
    "manot = manotAI(\"manot_service_url\", \"token\")"
   ]
  },
  {
   "cell_type": "markdown",
   "source": [
    "# Creating a Project"
   ],
   "metadata": {
    "collapsed": false
   }
  },
  {
   "cell_type": "code",
   "execution_count": null,
   "id": "57e9a1ca",
   "metadata": {},
   "outputs": [],
   "source": [
    "# Create a project for \"local\" and \"s3\" providers\n",
    "project = manot.create_project(\n",
    "    data_provider=\"local\", # it must be \"s3\" or \"local\"\n",
    "    arguments={\n",
    "            \"name\": \"project_example\",\n",
    "            \"images_path\": \"/path/to/images\",\n",
    "            \"ground_truths_path\": \"/path/to/ground_truths\",\n",
    "            \"detections_path\": \"/path/to/detections\",\n",
    "            \"detections_metadata_format\": \"xyx2y2\",  # it must be one of \"xyx2y2\", \"xywh\", or \"cxcywh\"\n",
    "            \"classes_txt_path\": \"/path/to/classes.txt\"\n",
    "        }\n",
    ")\n",
    "\n",
    "# Create a project for deeplake provider\n",
    "project = manot.create_project(\n",
    "    data_provider=\"deeplake\",\n",
    "    arguments={\n",
    "            \"name\": \"project_example\",\n",
    "            \"detections_metadata_format\": \"xyx2y2\",  # it must be one of \"xyx2y2\", \"xywh\", or \"cxcywh\"\n",
    "            \"deeplake_token\": \"your deeplake token\",\n",
    "            \"data_set\": \"user/dataset/\",\n",
    "            \"detections_boxes_key\": \"deeplake key where detection boxes are stored\",\n",
    "            \"detections_labels_key\": \"deeplake key where where detection labels are stored\",\n",
    "            \"detections_score_key\": \"deeplake key where detections score is stored\",\n",
    "            \"ground_truths_boxes_key\": \"deeplake key where ground truth boxes are stored\",\n",
    "            \"ground_truths_labels_key\": \"deeplake key where ground truth labels are stored\",\n",
    "            \"classes\": \"classes for deeplake\"\n",
    "        }\n",
    ")\n",
    "\n",
    "project"
   ]
  },
  {
   "cell_type": "code",
   "execution_count": null,
   "id": "1c82147b",
   "metadata": {},
   "outputs": [],
   "source": [
    "# Get information about a creating project\n",
    "project = manot.get_project(project[\"id\"])\n",
    "project"
   ]
  },
  {
   "cell_type": "markdown",
   "source": [
    "# Creating an Evaluation"
   ],
   "metadata": {
    "collapsed": false
   }
  },
  {
   "cell_type": "code",
   "execution_count": null,
   "id": "6fe86d44",
   "metadata": {},
   "outputs": [],
   "source": [
    "evaluation = manot.evaluate(\n",
    "    name=\"insight_example\",\n",
    "    project_id=project[\"id\"],\n",
    "    data_path=\"/path/to/data\",\n",
    "    data_provider=\"local\"  # it must be \"s3\" or \"local\"\n",
    ")\n",
    "evaluation"
   ]
  },
  {
   "cell_type": "code",
   "execution_count": null,
   "id": "f3eb2c5b",
   "metadata": {},
   "outputs": [],
   "source": [
    "# Get information about an evaluation\n",
    "evaluation = manot.get_evaluation(evaluation[\"id\"])\n",
    "evaluation"
   ]
  },
  {
   "cell_type": "markdown",
   "source": [
    "## Show results of evaluation"
   ],
   "metadata": {
    "collapsed": false
   }
  },
  {
   "cell_type": "code",
   "execution_count": null,
   "id": "c9579604",
   "metadata": {
    "scrolled": true
   },
   "outputs": [],
   "source": [
    "manot.visualize_data_set(evaluation['data_set']['id'])"
   ]
  },
  {
   "cell_type": "markdown",
   "source": [
    "## Upload data to start process"
   ],
   "metadata": {
    "collapsed": false
   }
  },
  {
   "cell_type": "code",
   "execution_count": null,
   "outputs": [],
   "source": [
    "# Upload data for creating a Project or an Evaluation\n",
    "manot.upload_data(dir_path=\"/path/to/data\", process=\"process_name\")\n",
    "\n",
    "# For creating a project dir_path must contain images, detections, and ground_truths folders and classes.txt file and process must be \"setup\"\n",
    "# For creating an evaluation dir_path must contain data, which formats must be \".jpeg\", \".jpg\", \".png\", \".avi\", \".gif\", \".m4v\", \".mkv\" or \".mp4\" and process must be \"insight\""
   ],
   "metadata": {
    "collapsed": false
   }
  },
  {
   "cell_type": "markdown",
   "source": [
    "## Calculate mAP"
   ],
   "metadata": {
    "collapsed": false
   }
  },
  {
   "cell_type": "code",
   "execution_count": null,
   "outputs": [],
   "source": [
    "manot.calculate_map(\n",
    "    ground_truths_path=\"/path/to/ground_truths\",\n",
    "    detections_path=\"/path/to/detections\",\n",
    "    classes_txt_path=\"/path/to/classes.txt\",\n",
    "    data_provider=\"local\",  # it must be \"s3\" or \"local\"\n",
    "    data_set_id=\"data_set_id\",  # if data_set_id is provided will calculate mAP only on selected data, otherwise will calculate mAP on all the data\n",
    ")"
   ],
   "metadata": {
    "collapsed": false
   }
  }
 ],
 "metadata": {
  "kernelspec": {
   "display_name": "Python 3 (ipykernel)",
   "language": "python",
   "name": "python3"
  },
  "language_info": {
   "codemirror_mode": {
    "name": "ipython",
    "version": 3
   },
   "file_extension": ".py",
   "mimetype": "text/x-python",
   "name": "python",
   "nbconvert_exporter": "python",
   "pygments_lexer": "ipython3",
   "version": "3.9.13"
  }
 },
 "nbformat": 4,
 "nbformat_minor": 5
}
