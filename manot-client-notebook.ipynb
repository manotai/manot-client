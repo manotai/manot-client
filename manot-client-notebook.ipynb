{
 "cells": [
  {
   "cell_type": "markdown",
   "id": "d2b799f9",
   "metadata": {},
   "source": [
    "# Installing manot"
   ]
  },
  {
   "cell_type": "code",
   "execution_count": null,
   "id": "6ea3afc1",
   "metadata": {},
   "outputs": [],
   "source": [
    "!pip install manot"
   ]
  },
  {
   "cell_type": "markdown",
   "id": "e133d89d",
   "metadata": {},
   "source": [
    "# Importing manot"
   ]
  },
  {
   "cell_type": "code",
   "execution_count": null,
   "id": "939048fb",
   "metadata": {},
   "outputs": [],
   "source": [
    "from manot import manotAI"
   ]
  },
  {
   "cell_type": "markdown",
   "id": "f551f527",
   "metadata": {},
   "source": [
    "**manot API** : https://api.manot.ai/api-documentation/v1"
   ]
  },
  {
   "cell_type": "code",
   "execution_count": null,
   "id": "4cafe4d6",
   "metadata": {},
   "outputs": [],
   "source": [
    "manot = manotAI(\"manot_service_url\", \"token\")"
   ]
  },
  {
   "cell_type": "markdown",
   "id": "f112339e",
   "metadata": {},
   "source": [
    "# Creating a Project"
   ]
  },
  {
   "cell_type": "code",
   "execution_count": null,
   "id": "57e9a1ca",
   "metadata": {},
   "outputs": [],
   "source": [
    "# Create a project for \"local\" and \"s3\" providers\n",
    "project = manot.create_project(\n",
    "    data_provider=\"local\", # it must be \"s3\" or \"local\"\n",
    "    arguments={\n",
    "            \"name\": \"project_example\",\n",
    "            \"images_path\": \"/path/to/images\",\n",
    "            \"ground_truths_path\": \"/path/to/ground_truths\",\n",
    "            \"detections_path\": \"/path/to/detections\",\n",
    "            \"detections_metadata_format\": \"xyx2y2\",  # it must be one of \"xyx2y2\", \"xywh\", or \"cxcywh\"\n",
    "            \"classes_txt_path\": \"/path/to/classes.txt\"\n",
    "        }\n",
    ")\n",
    "\n",
    "# Create a project for deeplake provider\n",
    "project = manot.create_project(\n",
    "    data_provider=\"deeplake\",\n",
    "    arguments={\n",
    "            \"name\": \"project_example\",\n",
    "            \"detections_metadata_format\": \"xyx2y2\",  # it must be one of \"xyx2y2\", \"xywh\", or \"cxcywh\"\n",
    "            \"deeplake_token\": \"your deeplake token\",\n",
    "            \"data_set\": \"user/dataset/\",\n",
    "            \"detections_boxes_key\": \"deeplake key where detection boxes are stored\",\n",
    "            \"detections_labels_key\": \"deeplake key where where detection labels are stored\",\n",
    "            \"detections_score_key\": \"deeplake key where detections score is stored\",\n",
    "            \"ground_truths_boxes_key\": \"deeplake key where ground truth boxes are stored\",\n",
    "            \"ground_truths_labels_key\": \"deeplake key where ground truth labels are stored\",\n",
    "            \"classes\": \"classes for deeplake\"\n",
    "        }\n",
    ")\n",
    "\n",
    "project"
   ]
  },
  {
   "cell_type": "code",
   "execution_count": null,
   "id": "1c82147b",
   "metadata": {},
   "outputs": [],
   "source": [
    "# Get information about a creating project\n",
    "project = manot.get_project(project[\"id\"])\n",
    "project"
   ]
  },
  {
   "cell_type": "markdown",
   "id": "3c14c4d6",
   "metadata": {},
   "source": [
    "# Creating an Evaluation"
   ]
  },
  {
   "cell_type": "code",
   "execution_count": null,
   "id": "6fe86d44",
   "metadata": {},
   "outputs": [],
   "source": [
    "evaluation = manot.evaluate(\n",
    "    name=\"insight_example\",\n",
    "    project_id=project[\"id\"],\n",
    "    data_path=\"/path/to/data\",\n",
    "    data_provider=\"local\"  # it must be \"s3\" or \"local\"\n",
    ")\n",
    "evaluation"
   ]
  },
  {
   "cell_type": "code",
   "execution_count": null,
   "id": "f3eb2c5b",
   "metadata": {},
   "outputs": [],
   "source": [
    "# Get information about an evaluation\n",
    "evaluation = manot.get_evaluation(evaluation[\"id\"])\n",
    "evaluation"
   ]
  },
  {
   "cell_type": "markdown",
   "id": "285fd12c",
   "metadata": {},
   "source": [
    "## Show results of evaluation"
   ]
  },
  {
   "cell_type": "code",
   "execution_count": null,
   "id": "c9579604",
   "metadata": {
    "scrolled": true
   },
   "outputs": [],
   "source": [
    "manot.visualize_data_set(evaluation['data_set']['id'])"
   ]
  },
  {
   "cell_type": "markdown",
   "id": "46d7c57e",
   "metadata": {},
   "source": [
    "## Upload data to start process"
   ]
  },
  {
   "cell_type": "code",
   "execution_count": null,
   "id": "fc797611",
   "metadata": {},
   "outputs": [],
   "source": [
    "# Upload data for creating a Project or an Evaluation\n",
    "manot.upload_data(dir_path=\"/path/to/data\", process=\"process_name\")\n",
    "\n",
    "# For creating a project dir_path must contain images, detections, and ground_truths folders and classes.txt file and process must be \"project\"\n",
    "# For creating an evaluation dir_path must contain data, which formats must be \".jpeg\", \".jpg\", \".png\", \".avi\", \".gif\", \".m4v\", \".mkv\" or \".mp4\" and process must be \"insight\""
   ]
  },
  {
   "cell_type": "markdown",
   "id": "eee61c78",
   "metadata": {},
   "source": [
    "## Calculate mAP"
   ]
  },
  {
   "cell_type": "code",
   "execution_count": null,
   "id": "71f3d979",
   "metadata": {},
   "outputs": [],
   "source": [
    "manot.calculate_map(\n",
    "    ground_truths_path=\"/path/to/ground_truths\",\n",
    "    detections_path=\"/path/to/detections\",\n",
    "    classes_txt_path=\"/path/to/classes.txt\",\n",
    "    data_provider=\"local\",  # it must be \"s3\" or \"local\"\n",
    "    data_set_id=\"data_set_id\",  # if data_set_id is provided will calculate mAP only on selected data, otherwise will calculate mAP on all the data\n",
    ")"
   ]
  }
 ],
 "metadata": {
  "kernelspec": {
   "display_name": "Python 3 (ipykernel)",
   "language": "python",
   "name": "python3"
  },
  "language_info": {
   "codemirror_mode": {
    "name": "ipython",
    "version": 3
   },
   "file_extension": ".py",
   "mimetype": "text/x-python",
   "name": "python",
   "nbconvert_exporter": "python",
   "pygments_lexer": "ipython3",
   "version": "3.9.13"
  }
 },
 "nbformat": 4,
 "nbformat_minor": 5
}
